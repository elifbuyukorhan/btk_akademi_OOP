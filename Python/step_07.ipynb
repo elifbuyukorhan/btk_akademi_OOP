{
 "cells": [
  {
   "cell_type": "code",
   "execution_count": 39,
   "metadata": {},
   "outputs": [],
   "source": [
    "class Product(object):\n",
    "    def __init__(self,name:str=\"Default\" ,price:float=0, quantity:int=0) -> None: \n",
    "        if 3 <= len(name) <= 8:\n",
    "            self.__name = name\n",
    "        else:\n",
    "            raise ValueError(\"Name must be between 3 and 8 characters long.\")\n",
    "        if price >= 0:\n",
    "            self.__price = price\n",
    "        else:\n",
    "            raise ValueError(\"Price must be non-negative.\")\n",
    "        if quantity >= 1:\n",
    "            self.__quantity = quantity\n",
    "        else:\n",
    "            raise ValueError(\"Quantity must be at least 1.\")\n",
    "        print(f\"An instance with name: {name} has been derived from Product class in 31 May 2024\")\n",
    "    \n",
    "    @property    \n",
    "    def name(self):\n",
    "        return self.__name\n",
    "    @property\n",
    "    def price(self):\n",
    "        return self.__price\n",
    "    @property\n",
    "    def quantity(self):\n",
    "        return self.__quantity\n",
    "    \n",
    "    @name.setter\n",
    "    def name(self, value:str) -> None:\n",
    "        if 3 <= len(value) <= 8:\n",
    "           self.__name = value \n",
    "        else: \n",
    "            print(\"Name must be between 3 and 8 characters long.\")\n",
    "        \n",
    "    @price.setter\n",
    "    def price(self, value:float) -> None:\n",
    "        if (self.__price >= 0):\n",
    "            self.__price = value\n",
    "        else:\n",
    "            print(\"Price must be non-negative.\")\n",
    "    @quantity.setter\n",
    "    def quantity(self, value:int) -> None:\n",
    "        if(self.__quantity >= 1):\n",
    "            self.__quantity = value\n",
    "        else:\n",
    "            print(\"Quantity must be at least 1.\")\n",
    "        \n",
    "    def get_total_price(self) -> float:\n",
    "        return self.__price * self.__quantity\n",
    "\n",
    "    def __repr__(self):\n",
    "        return f\"{self.name} - {self.price} - {self.quantity}\""
   ]
  },
  {
   "cell_type": "code",
   "execution_count": 44,
   "metadata": {},
   "outputs": [],
   "source": [
    "class ProductHelper(Product):\n",
    "    @staticmethod \n",
    "    def create_item_from_text(file_path: str) -> list:\n",
    "        products = [] \n",
    "        with open(file_path, 'r') as file:\n",
    "            for line in file:\n",
    "                line = line.strip()\n",
    "                if line: #Boş satırları atla\n",
    "                    parts = line.split(',')\n",
    "                    if len(parts) == 4:\n",
    "                        _, name, price, quantity = parts\n",
    "                        name = name.strip()\n",
    "                        price = float(price.strip())\n",
    "                        quantity = int(quantity.strip())\n",
    "                        try:\n",
    "                            product = Product(name, price, quantity)\n",
    "                            products.append(product)\n",
    "                        except Exception as e:\n",
    "                            print(f\"An error occured while reading the file: {e}\")\n",
    "                    else:\n",
    "                        print(f\"Skipped invalid line: {line}\")\n",
    "        return products\n",
    "            \n",
    "    @staticmethod \n",
    "    def get_total_balance(products) -> float:\n",
    "        total = 0\n",
    "        for product in products:\n",
    "            total += product.get_total_price()\n",
    "        total += total*0.2\n",
    "        return total\n",
    "        "
   ]
  },
  {
   "cell_type": "code",
   "execution_count": 45,
   "metadata": {},
   "outputs": [
    {
     "name": "stdout",
     "output_type": "stream",
     "text": [
      "An instance with name: Computer has been derived from Product class in 31 May 2024\n",
      "An instance with name: Laptop has been derived from Product class in 31 May 2024\n",
      "An instance with name: Airpods has been derived from Product class in 31 May 2024\n",
      "An error occured while reading the file: Name must be between 3 and 8 characters long.\n",
      "An error occured while reading the file: Name must be between 3 and 8 characters long.\n",
      "Computer - 5000.0 - 2\n",
      "Laptop - 7000.0 - 3\n",
      "Airpods - 2000.0 - 1\n",
      "Total balance including 20% VAT: 39600.0\n"
     ]
    }
   ],
   "source": [
    "file_path = \"/home/elif/BTK_AKADEMİ/Python/Products.txt\"\n",
    "products = ProductHelper.create_item_from_text(file_path)\n",
    "for product in products:\n",
    "    print(product)\n",
    "Total_balance = ProductHelper.get_total_balance(products)\n",
    "print(f\"Total balance including 20% VAT: {Total_balance}\")\n"
   ]
  },
  {
   "cell_type": "code",
   "execution_count": 6,
   "metadata": {},
   "outputs": [
    {
     "name": "stdout",
     "output_type": "stream",
     "text": [
      "An instance with name: Laptop has been derived from Product class.\n",
      "HP Laptop - 799.99 - 2\n"
     ]
    }
   ],
   "source": [
    "item1 = Product(\"Laptop\", 799.99, 2)\n",
    "item1.name = \"HP Laptop\"\n",
    "\n",
    "print(item1)\n",
    "\n"
   ]
  },
  {
   "cell_type": "code",
   "execution_count": 3,
   "metadata": {},
   "outputs": [
    {
     "name": "stdout",
     "output_type": "stream",
     "text": [
      "An instance with name: Computer has been derived from Product class.\n",
      "<__main__.Product object at 0x701aa4ea4d30>\n"
     ]
    }
   ],
   "source": [
    "item2 = Product(\"Computer\")\n",
    "item2.price = 1999.99\n",
    "item2.quantity = 3\n",
    "\n",
    "print(item2)"
   ]
  },
  {
   "cell_type": "code",
   "execution_count": 7,
   "metadata": {},
   "outputs": [
    {
     "name": "stdout",
     "output_type": "stream",
     "text": [
      "An instance with name: Keyboard has been derived from Product class.\n",
      "Keyboard\n",
      "125.99\n",
      "0\n"
     ]
    }
   ],
   "source": [
    "item3 = Product(\"Keyboard\", 125.99)\n",
    "print(item3)"
   ]
  },
  {
   "cell_type": "code",
   "execution_count": null,
   "metadata": {},
   "outputs": [],
   "source": []
  }
 ],
 "metadata": {
  "kernelspec": {
   "display_name": "Python 3",
   "language": "python",
   "name": "python3"
  },
  "language_info": {
   "codemirror_mode": {
    "name": "ipython",
    "version": 3
   },
   "file_extension": ".py",
   "mimetype": "text/x-python",
   "name": "python",
   "nbconvert_exporter": "python",
   "pygments_lexer": "ipython3",
   "version": "3.10.12"
  }
 },
 "nbformat": 4,
 "nbformat_minor": 2
}
